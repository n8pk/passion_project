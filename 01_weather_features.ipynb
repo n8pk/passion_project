{
 "cells": [
  {
   "cell_type": "code",
   "execution_count": 1,
   "metadata": {},
   "outputs": [],
   "source": [
    "import pandas as pd\n",
    "import numpy as np\n",
    "import matplotlib.pyplot as plt"
   ]
  },
  {
   "cell_type": "code",
   "execution_count": 2,
   "metadata": {},
   "outputs": [],
   "source": [
    "weather_2015 = pd.read_csv('/home/nate/Desktop/fires/2015.csv', header=None)\n",
    "\n",
    "stations = pd.read_pickle('murica_stations.pkl')"
   ]
  },
  {
   "cell_type": "code",
   "execution_count": 3,
   "metadata": {},
   "outputs": [],
   "source": [
    "weather_2015 = weather_2015[[0,1,2,3]]\n",
    "weather_2015.columns = ['station', 'date', 'data_type', 'measurement']"
   ]
  },
  {
   "cell_type": "code",
   "execution_count": 4,
   "metadata": {},
   "outputs": [],
   "source": [
    "weather_2015 = weather_2015.set_index('station').join(stations.set_index('code'))\n",
    "\n",
    "weather_2015 = weather_2015.dropna()"
   ]
  },
  {
   "cell_type": "code",
   "execution_count": 5,
   "metadata": {},
   "outputs": [],
   "source": [
    "ak_stations = weather_2015.copy()\n",
    "ak_stations = ak_stations[ak_stations['lon'] < -125]\n",
    "ak_stations = ak_stations[ak_stations['lat'] > 50]"
   ]
  },
  {
   "cell_type": "code",
   "execution_count": 6,
   "metadata": {},
   "outputs": [
    {
     "data": {
      "text/plain": [
       "826538"
      ]
     },
     "execution_count": 6,
     "metadata": {},
     "output_type": "execute_result"
    }
   ],
   "source": [
    "len(ak_stations)"
   ]
  },
  {
   "cell_type": "code",
   "execution_count": 7,
   "metadata": {},
   "outputs": [],
   "source": [
    "ak_fires = pd.read_pickle('ak_fires.pkl')"
   ]
  },
  {
   "cell_type": "code",
   "execution_count": 9,
   "metadata": {},
   "outputs": [],
   "source": [
    "# ak_fires = ak_fires[ak_fires['FIRE_SIZE'] > 100]"
   ]
  },
  {
   "cell_type": "code",
   "execution_count": 8,
   "metadata": {},
   "outputs": [
    {
     "data": {
      "text/html": [
       "<div>\n",
       "<style scoped>\n",
       "    .dataframe tbody tr th:only-of-type {\n",
       "        vertical-align: middle;\n",
       "    }\n",
       "\n",
       "    .dataframe tbody tr th {\n",
       "        vertical-align: top;\n",
       "    }\n",
       "\n",
       "    .dataframe thead th {\n",
       "        text-align: right;\n",
       "    }\n",
       "</style>\n",
       "<table border=\"1\" class=\"dataframe\">\n",
       "  <thead>\n",
       "    <tr style=\"text-align: right;\">\n",
       "      <th></th>\n",
       "      <th>STAT_CAUSE_DESCR</th>\n",
       "      <th>LATITUDE</th>\n",
       "      <th>LONGITUDE</th>\n",
       "      <th>STATE</th>\n",
       "      <th>DISCOVERY_DATE</th>\n",
       "      <th>FIRE_SIZE</th>\n",
       "      <th>DATE</th>\n",
       "      <th>MONTH</th>\n",
       "      <th>YEAR</th>\n",
       "      <th>DAY_OF_WEEK</th>\n",
       "      <th>MTHYR</th>\n",
       "    </tr>\n",
       "  </thead>\n",
       "  <tbody>\n",
       "    <tr>\n",
       "      <th>4623</th>\n",
       "      <td>Campfire</td>\n",
       "      <td>60.053333</td>\n",
       "      <td>-149.440000</td>\n",
       "      <td>AK</td>\n",
       "      <td>2453488.5</td>\n",
       "      <td>2.3</td>\n",
       "      <td>2005-04-28</td>\n",
       "      <td>4</td>\n",
       "      <td>2005</td>\n",
       "      <td>Thursday</td>\n",
       "      <td>2005-4</td>\n",
       "    </tr>\n",
       "    <tr>\n",
       "      <th>4628</th>\n",
       "      <td>Campfire</td>\n",
       "      <td>60.506111</td>\n",
       "      <td>-145.343889</td>\n",
       "      <td>AK</td>\n",
       "      <td>2453491.5</td>\n",
       "      <td>11.4</td>\n",
       "      <td>2005-05-01</td>\n",
       "      <td>5</td>\n",
       "      <td>2005</td>\n",
       "      <td>Sunday</td>\n",
       "      <td>2005-5</td>\n",
       "    </tr>\n",
       "    <tr>\n",
       "      <th>4632</th>\n",
       "      <td>Miscellaneous</td>\n",
       "      <td>60.885000</td>\n",
       "      <td>-149.045000</td>\n",
       "      <td>AK</td>\n",
       "      <td>2453498.5</td>\n",
       "      <td>2.5</td>\n",
       "      <td>2005-05-08</td>\n",
       "      <td>5</td>\n",
       "      <td>2005</td>\n",
       "      <td>Sunday</td>\n",
       "      <td>2005-5</td>\n",
       "    </tr>\n",
       "    <tr>\n",
       "      <th>4640</th>\n",
       "      <td>Debris Burning</td>\n",
       "      <td>60.861667</td>\n",
       "      <td>-148.995000</td>\n",
       "      <td>AK</td>\n",
       "      <td>2453499.5</td>\n",
       "      <td>0.1</td>\n",
       "      <td>2005-05-09</td>\n",
       "      <td>5</td>\n",
       "      <td>2005</td>\n",
       "      <td>Monday</td>\n",
       "      <td>2005-5</td>\n",
       "    </tr>\n",
       "    <tr>\n",
       "      <th>6489</th>\n",
       "      <td>Debris Burning</td>\n",
       "      <td>56.509722</td>\n",
       "      <td>-132.871944</td>\n",
       "      <td>AK</td>\n",
       "      <td>2453547.5</td>\n",
       "      <td>0.2</td>\n",
       "      <td>2005-06-26</td>\n",
       "      <td>6</td>\n",
       "      <td>2005</td>\n",
       "      <td>Sunday</td>\n",
       "      <td>2005-6</td>\n",
       "    </tr>\n",
       "  </tbody>\n",
       "</table>\n",
       "</div>"
      ],
      "text/plain": [
       "     STAT_CAUSE_DESCR   LATITUDE   LONGITUDE STATE  DISCOVERY_DATE  FIRE_SIZE  \\\n",
       "4623         Campfire  60.053333 -149.440000    AK       2453488.5        2.3   \n",
       "4628         Campfire  60.506111 -145.343889    AK       2453491.5       11.4   \n",
       "4632    Miscellaneous  60.885000 -149.045000    AK       2453498.5        2.5   \n",
       "4640   Debris Burning  60.861667 -148.995000    AK       2453499.5        0.1   \n",
       "6489   Debris Burning  56.509722 -132.871944    AK       2453547.5        0.2   \n",
       "\n",
       "           DATE  MONTH  YEAR DAY_OF_WEEK   MTHYR  \n",
       "4623 2005-04-28      4  2005    Thursday  2005-4  \n",
       "4628 2005-05-01      5  2005      Sunday  2005-5  \n",
       "4632 2005-05-08      5  2005      Sunday  2005-5  \n",
       "4640 2005-05-09      5  2005      Monday  2005-5  \n",
       "6489 2005-06-26      6  2005      Sunday  2005-6  "
      ]
     },
     "execution_count": 8,
     "metadata": {},
     "output_type": "execute_result"
    }
   ],
   "source": [
    "ak_fires.head()"
   ]
  },
  {
   "cell_type": "code",
   "execution_count": 10,
   "metadata": {},
   "outputs": [
    {
     "data": {
      "image/png": "[encoded data removed]",
      "text/plain": [
       "<matplotlib.figure.Figure at 0x7f5486c40198>"
      ]
     },
     "metadata": {},
     "output_type": "display_data"
    }
   ],
   "source": [
    "plt.figure(figsize=(16,12))\n",
    "\n",
    "x=ak_stations['lon']\n",
    "y=ak_stations['lat']\n",
    "x1=ak_fires['LONGITUDE']\n",
    "y1=ak_fires['LATITUDE']\n",
    "\n",
    "plt.scatter(x,y,color='g',s=1)\n",
    "plt.scatter(x1,y1,color='r',s=1)\n",
    "\n",
    "plt.show()"
   ]
  },
  {
   "cell_type": "code",
   "execution_count": 11,
   "metadata": {},
   "outputs": [],
   "source": [
    "ak_stations['station'] = ak_stations.index"
   ]
  },
  {
   "cell_type": "code",
   "execution_count": 12,
   "metadata": {},
   "outputs": [
    {
     "data": {
      "text/html": [
       "<div>\n",
       "<style scoped>\n",
       "    .dataframe tbody tr th:only-of-type {\n",
       "        vertical-align: middle;\n",
       "    }\n",
       "\n",
       "    .dataframe tbody tr th {\n",
       "        vertical-align: top;\n",
       "    }\n",
       "\n",
       "    .dataframe thead th {\n",
       "        text-align: right;\n",
       "    }\n",
       "</style>\n",
       "<table border=\"1\" class=\"dataframe\">\n",
       "  <thead>\n",
       "    <tr style=\"text-align: right;\">\n",
       "      <th></th>\n",
       "      <th>date</th>\n",
       "      <th>data_type</th>\n",
       "      <th>measurement</th>\n",
       "      <th>lat</th>\n",
       "      <th>lon</th>\n",
       "      <th>station</th>\n",
       "    </tr>\n",
       "  </thead>\n",
       "  <tbody>\n",
       "    <tr>\n",
       "      <th>CA001021480</th>\n",
       "      <td>20150101</td>\n",
       "      <td>TMAX</td>\n",
       "      <td>35</td>\n",
       "      <td>50.3333</td>\n",
       "      <td>-125.45</td>\n",
       "      <td>CA001021480</td>\n",
       "    </tr>\n",
       "    <tr>\n",
       "      <th>CA001021480</th>\n",
       "      <td>20150101</td>\n",
       "      <td>TMIN</td>\n",
       "      <td>-5</td>\n",
       "      <td>50.3333</td>\n",
       "      <td>-125.45</td>\n",
       "      <td>CA001021480</td>\n",
       "    </tr>\n",
       "    <tr>\n",
       "      <th>CA001021480</th>\n",
       "      <td>20150101</td>\n",
       "      <td>PRCP</td>\n",
       "      <td>20</td>\n",
       "      <td>50.3333</td>\n",
       "      <td>-125.45</td>\n",
       "      <td>CA001021480</td>\n",
       "    </tr>\n",
       "    <tr>\n",
       "      <th>CA001021480</th>\n",
       "      <td>20150101</td>\n",
       "      <td>SNOW</td>\n",
       "      <td>0</td>\n",
       "      <td>50.3333</td>\n",
       "      <td>-125.45</td>\n",
       "      <td>CA001021480</td>\n",
       "    </tr>\n",
       "    <tr>\n",
       "      <th>CA001021480</th>\n",
       "      <td>20150101</td>\n",
       "      <td>SNWD</td>\n",
       "      <td>0</td>\n",
       "      <td>50.3333</td>\n",
       "      <td>-125.45</td>\n",
       "      <td>CA001021480</td>\n",
       "    </tr>\n",
       "  </tbody>\n",
       "</table>\n",
       "</div>"
      ],
      "text/plain": [
       "                 date data_type  measurement      lat     lon      station\n",
       "CA001021480  20150101      TMAX           35  50.3333 -125.45  CA001021480\n",
       "CA001021480  20150101      TMIN           -5  50.3333 -125.45  CA001021480\n",
       "CA001021480  20150101      PRCP           20  50.3333 -125.45  CA001021480\n",
       "CA001021480  20150101      SNOW            0  50.3333 -125.45  CA001021480\n",
       "CA001021480  20150101      SNWD            0  50.3333 -125.45  CA001021480"
      ]
     },
     "execution_count": 12,
     "metadata": {},
     "output_type": "execute_result"
    }
   ],
   "source": [
    "ak_stations.head()"
   ]
  },
  {
   "cell_type": "code",
   "execution_count": 13,
   "metadata": {},
   "outputs": [],
   "source": [
    "tmax = []\n",
    "tmin = []\n",
    "prcp = []\n",
    "snow = []"
   ]
  },
  {
   "cell_type": "code",
   "execution_count": 14,
   "metadata": {},
   "outputs": [],
   "source": [
    "for idx, row in ak_stations.iterrows():\n",
    "    if row[1] == 'TMAX':\n",
    "        tmax.append(float(row[2]/10))\n",
    "        tmin.append(0)\n",
    "        prcp.append(0)\n",
    "        snow.append(0)\n",
    "    elif row[1] == 'TMIN':\n",
    "        tmax.append(0)\n",
    "        tmin.append(float(row[2]/10))\n",
    "        prcp.append(0)\n",
    "        snow.append(0)\n",
    "    elif row[1] == 'PRCP':\n",
    "        tmax.append(0)\n",
    "        tmin.append(0)\n",
    "        prcp.append(row[2])\n",
    "        snow.append(0)\n",
    "    elif row[1] == 'SNOW':\n",
    "        tmax.append(0)\n",
    "        tmin.append(0)\n",
    "        prcp.append(0)\n",
    "        snow.append(row[2])\n",
    "    else:\n",
    "        tmax.append(0)\n",
    "        tmin.append(0)\n",
    "        prcp.append(0)\n",
    "        snow.append(0)"
   ]
  },
  {
   "cell_type": "code",
   "execution_count": 15,
   "metadata": {},
   "outputs": [
    {
     "data": {
      "text/plain": [
       "(826538, 826538)"
      ]
     },
     "execution_count": 15,
     "metadata": {},
     "output_type": "execute_result"
    }
   ],
   "source": [
    "len(ak_stations),len(tmax)"
   ]
  },
  {
   "cell_type": "code",
   "execution_count": 16,
   "metadata": {},
   "outputs": [],
   "source": [
    "ak_stations['tmax'] = tmax\n",
    "ak_stations['tmin'] = tmin\n",
    "ak_stations['prcp'] = prcp\n",
    "ak_stations['snow'] = snow"
   ]
  },
  {
   "cell_type": "code",
   "execution_count": 17,
   "metadata": {},
   "outputs": [],
   "source": [
    "ak_stations = ak_stations.drop(['data_type', 'measurement'], axis=1)"
   ]
  },
  {
   "cell_type": "code",
   "execution_count": 18,
   "metadata": {},
   "outputs": [],
   "source": [
    "ak_stations = ak_stations.groupby(['date', 'station'])['tmax', 'tmin', 'prcp', 'snow'].sum().reset_index()"
   ]
  },
  {
   "cell_type": "code",
   "execution_count": 19,
   "metadata": {},
   "outputs": [],
   "source": [
    "ak_stations = ak_stations.set_index('station').join(stations.set_index('code'))\n",
    "\n",
    "ak_stations = ak_stations.dropna()"
   ]
  },
  {
   "cell_type": "code",
   "execution_count": 20,
   "metadata": {},
   "outputs": [],
   "source": [
    "ak_stations['clean_date'] = pd.to_datetime(ak_stations['date'], format='%Y%m%d')"
   ]
  },
  {
   "cell_type": "code",
   "execution_count": 21,
   "metadata": {},
   "outputs": [
    {
     "data": {
      "image/png": "[encoded data removed]",
      "text/plain": [
       "<matplotlib.figure.Figure at 0x7f54566a2ac8>"
      ]
     },
     "metadata": {},
     "output_type": "display_data"
    }
   ],
   "source": [
    "ak_fires['MONTH'].value_counts().plot(kind='barh',color='r')\n",
    "plt.show()"
   ]
  },
  {
   "cell_type": "code",
   "execution_count": 22,
   "metadata": {},
   "outputs": [],
   "source": [
    "from geopy.distance import vincenty"
   ]
  },
  {
   "cell_type": "code",
   "execution_count": 23,
   "metadata": {},
   "outputs": [],
   "source": [
    "ak_stations = ak_stations.reset_index()\n",
    "ak_fires = ak_fires.reset_index()"
   ]
  },
  {
   "cell_type": "code",
   "execution_count": 24,
   "metadata": {},
   "outputs": [
    {
     "data": {
      "text/plain": [
       "Index(['index', 'STAT_CAUSE_DESCR', 'LATITUDE', 'LONGITUDE', 'STATE',\n",
       "       'DISCOVERY_DATE', 'FIRE_SIZE', 'DATE', 'MONTH', 'YEAR', 'DAY_OF_WEEK',\n",
       "       'MTHYR'],\n",
       "      dtype='object')"
      ]
     },
     "execution_count": 24,
     "metadata": {},
     "output_type": "execute_result"
    }
   ],
   "source": [
    "ak_fires.columns"
   ]
  },
  {
   "cell_type": "code",
   "execution_count": 25,
   "metadata": {},
   "outputs": [
    {
     "data": {
      "text/plain": [
       "Index(['index', 'date', 'tmax', 'tmin', 'prcp', 'snow', 'lat', 'lon',\n",
       "       'clean_date'],\n",
       "      dtype='object')"
      ]
     },
     "execution_count": 25,
     "metadata": {},
     "output_type": "execute_result"
    }
   ],
   "source": [
    "ak_stations.columns"
   ]
  },
  {
   "cell_type": "code",
   "execution_count": 26,
   "metadata": {},
   "outputs": [
    {
     "data": {
      "text/plain": [
       "771"
      ]
     },
     "execution_count": 26,
     "metadata": {},
     "output_type": "execute_result"
    }
   ],
   "source": [
    "ak_fires_2015 = ak_fires[ak_fires['YEAR'] == 2015]\n",
    "ak_fires_2015 = ak_fires_2015.reset_index()\n",
    "len(ak_fires_2015)"
   ]
  },
  {
   "cell_type": "code",
   "execution_count": 27,
   "metadata": {},
   "outputs": [],
   "source": [
    "avg_tmax = []\n",
    "avg_tmin = []\n",
    "avg_prcp = []\n",
    "avg_snow = []\n",
    "prcp_7 = []\n",
    "prcp_14 = []\n",
    "prcp_28 = []\n",
    "\n",
    "for idx, fire in ak_fires_2015.iterrows():\n",
    "    \n",
    "    date = ak_fires_2015.iloc[idx][8]\n",
    "    dist = []\n",
    "    ak_stations_day = ak_stations[ak_stations['clean_date'] == date]\n",
    "    ak_stations_day.reset_index()\n",
    "    \n",
    "    for idy, station in ak_stations_day.iterrows():\n",
    "        dist.append((idy, vincenty((fire[3], fire[4]), (station[6], station[7])).miles))\n",
    "          \n",
    "    dist.sort(key=lambda x: x[1])\n",
    "    distx = [tup[0] for tup in dist[:5]]\n",
    "     \n",
    "    avg_tmax.append(np.mean([ak_stations.iloc[i][2] for i in distx]))\n",
    "    avg_tmin.append(np.mean([ak_stations.iloc[i][3] for i in distx]))\n",
    "    avg_prcp.append(np.mean([ak_stations.iloc[i][4] for i in distx]))\n",
    "    avg_snow.append(np.mean([ak_stations.iloc[i][5] for i in distx]))\n",
    "    \n",
    "    p_7 = 0\n",
    "    for d in distx:\n",
    "        for i in range(7):\n",
    "            p_7 += ak_stations.iloc[d-i][4]\n",
    "    prcp_7.append(p_7/7)\n",
    "    \n",
    "    p_14 = 0\n",
    "    for d in distx:\n",
    "        for i in range(14):\n",
    "            p_14 += ak_stations.iloc[d-i][4]\n",
    "    prcp_14.append(p_14/14)\n",
    "    \n",
    "    p_28 = 0\n",
    "    for d in distx:\n",
    "        for i in range(28):\n",
    "            p_28 += ak_stations.iloc[d-i][4]\n",
    "    prcp_28.append(p_28/28)"
   ]
  },
  {
   "cell_type": "code",
   "execution_count": 28,
   "metadata": {},
   "outputs": [],
   "source": [
    "ak_fires_2015['tmax_5'] = avg_tmax\n",
    "ak_fires_2015['tmin_5'] = avg_tmin\n",
    "ak_fires_2015['prcp_5'] = avg_prcp\n",
    "ak_fires_2015['snow_5'] = avg_snow\n",
    "ak_fires_2015['last_7'] = prcp_7\n",
    "ak_fires_2015['last_14'] = prcp_14\n",
    "ak_fires_2015['last_28'] = prcp_28"
   ]
  },
  {
   "cell_type": "code",
   "execution_count": 29,
   "metadata": {},
   "outputs": [
    {
     "data": {
      "text/html": [
       "<div>\n",
       "<style scoped>\n",
       "    .dataframe tbody tr th:only-of-type {\n",
       "        vertical-align: middle;\n",
       "    }\n",
       "\n",
       "    .dataframe tbody tr th {\n",
       "        vertical-align: top;\n",
       "    }\n",
       "\n",
       "    .dataframe thead th {\n",
       "        text-align: right;\n",
       "    }\n",
       "</style>\n",
       "<table border=\"1\" class=\"dataframe\">\n",
       "  <thead>\n",
       "    <tr style=\"text-align: right;\">\n",
       "      <th></th>\n",
       "      <th>STAT_CAUSE_DESCR</th>\n",
       "      <th>LATITUDE</th>\n",
       "      <th>LONGITUDE</th>\n",
       "      <th>STATE</th>\n",
       "      <th>DISCOVERY_DATE</th>\n",
       "      <th>FIRE_SIZE</th>\n",
       "      <th>DATE</th>\n",
       "      <th>MONTH</th>\n",
       "      <th>YEAR</th>\n",
       "      <th>DAY_OF_WEEK</th>\n",
       "      <th>MTHYR</th>\n",
       "      <th>tmax_5</th>\n",
       "      <th>tmin_5</th>\n",
       "      <th>prcp_5</th>\n",
       "      <th>snow_5</th>\n",
       "      <th>last_7</th>\n",
       "      <th>last_14</th>\n",
       "      <th>last_28</th>\n",
       "    </tr>\n",
       "  </thead>\n",
       "  <tbody>\n",
       "    <tr>\n",
       "      <th>0</th>\n",
       "      <td>Campfire</td>\n",
       "      <td>60.910278</td>\n",
       "      <td>-149.458611</td>\n",
       "      <td>AK</td>\n",
       "      <td>2457162.5</td>\n",
       "      <td>0.10</td>\n",
       "      <td>2015-05-20</td>\n",
       "      <td>5</td>\n",
       "      <td>2015</td>\n",
       "      <td>Wednesday</td>\n",
       "      <td>2015-5</td>\n",
       "      <td>15.68</td>\n",
       "      <td>3.20</td>\n",
       "      <td>0.0</td>\n",
       "      <td>0.0</td>\n",
       "      <td>0.000000</td>\n",
       "      <td>165.071429</td>\n",
       "      <td>98.750000</td>\n",
       "    </tr>\n",
       "    <tr>\n",
       "      <th>1</th>\n",
       "      <td>Campfire</td>\n",
       "      <td>60.507778</td>\n",
       "      <td>-149.811111</td>\n",
       "      <td>AK</td>\n",
       "      <td>2457173.5</td>\n",
       "      <td>0.10</td>\n",
       "      <td>2015-05-31</td>\n",
       "      <td>5</td>\n",
       "      <td>2015</td>\n",
       "      <td>Sunday</td>\n",
       "      <td>2015-5</td>\n",
       "      <td>25.78</td>\n",
       "      <td>5.54</td>\n",
       "      <td>0.0</td>\n",
       "      <td>0.0</td>\n",
       "      <td>0.714286</td>\n",
       "      <td>3.071429</td>\n",
       "      <td>23.500000</td>\n",
       "    </tr>\n",
       "    <tr>\n",
       "      <th>2</th>\n",
       "      <td>Campfire</td>\n",
       "      <td>60.435000</td>\n",
       "      <td>-149.343333</td>\n",
       "      <td>AK</td>\n",
       "      <td>2457220.5</td>\n",
       "      <td>0.10</td>\n",
       "      <td>2015-07-17</td>\n",
       "      <td>7</td>\n",
       "      <td>2015</td>\n",
       "      <td>Friday</td>\n",
       "      <td>2015-7</td>\n",
       "      <td>15.28</td>\n",
       "      <td>8.52</td>\n",
       "      <td>33.0</td>\n",
       "      <td>0.0</td>\n",
       "      <td>139.857143</td>\n",
       "      <td>77.714286</td>\n",
       "      <td>62.785714</td>\n",
       "    </tr>\n",
       "    <tr>\n",
       "      <th>3</th>\n",
       "      <td>Miscellaneous</td>\n",
       "      <td>60.399722</td>\n",
       "      <td>-149.643889</td>\n",
       "      <td>AK</td>\n",
       "      <td>2457214.5</td>\n",
       "      <td>0.17</td>\n",
       "      <td>2015-07-11</td>\n",
       "      <td>7</td>\n",
       "      <td>2015</td>\n",
       "      <td>Saturday</td>\n",
       "      <td>2015-7</td>\n",
       "      <td>18.80</td>\n",
       "      <td>7.96</td>\n",
       "      <td>13.2</td>\n",
       "      <td>0.0</td>\n",
       "      <td>10.571429</td>\n",
       "      <td>25.285714</td>\n",
       "      <td>13.928571</td>\n",
       "    </tr>\n",
       "    <tr>\n",
       "      <th>4</th>\n",
       "      <td>Campfire</td>\n",
       "      <td>60.814444</td>\n",
       "      <td>-149.536389</td>\n",
       "      <td>AK</td>\n",
       "      <td>2457164.5</td>\n",
       "      <td>61.60</td>\n",
       "      <td>2015-05-22</td>\n",
       "      <td>5</td>\n",
       "      <td>2015</td>\n",
       "      <td>Friday</td>\n",
       "      <td>2015-5</td>\n",
       "      <td>20.86</td>\n",
       "      <td>3.24</td>\n",
       "      <td>0.0</td>\n",
       "      <td>0.0</td>\n",
       "      <td>0.000000</td>\n",
       "      <td>72.500000</td>\n",
       "      <td>75.107143</td>\n",
       "    </tr>\n",
       "  </tbody>\n",
       "</table>\n",
       "</div>"
      ],
      "text/plain": [
       "  STAT_CAUSE_DESCR   LATITUDE   LONGITUDE STATE  DISCOVERY_DATE  FIRE_SIZE  \\\n",
       "0         Campfire  60.910278 -149.458611    AK       2457162.5       0.10   \n",
       "1         Campfire  60.507778 -149.811111    AK       2457173.5       0.10   \n",
       "2         Campfire  60.435000 -149.343333    AK       2457220.5       0.10   \n",
       "3    Miscellaneous  60.399722 -149.643889    AK       2457214.5       0.17   \n",
       "4         Campfire  60.814444 -149.536389    AK       2457164.5      61.60   \n",
       "\n",
       "        DATE  MONTH  YEAR DAY_OF_WEEK   MTHYR  tmax_5  tmin_5  prcp_5  snow_5  \\\n",
       "0 2015-05-20      5  2015   Wednesday  2015-5   15.68    3.20     0.0     0.0   \n",
       "1 2015-05-31      5  2015      Sunday  2015-5   25.78    5.54     0.0     0.0   \n",
       "2 2015-07-17      7  2015      Friday  2015-7   15.28    8.52    33.0     0.0   \n",
       "3 2015-07-11      7  2015    Saturday  2015-7   18.80    7.96    13.2     0.0   \n",
       "4 2015-05-22      5  2015      Friday  2015-5   20.86    3.24     0.0     0.0   \n",
       "\n",
       "       last_7     last_14    last_28  \n",
       "0    0.000000  165.071429  98.750000  \n",
       "1    0.714286    3.071429  23.500000  \n",
       "2  139.857143   77.714286  62.785714  \n",
       "3   10.571429   25.285714  13.928571  \n",
       "4    0.000000   72.500000  75.107143  "
      ]
     },
     "execution_count": 29,
     "metadata": {},
     "output_type": "execute_result"
    }
   ],
   "source": [
    "ak_fires_2015 = ak_fires_2015.drop(['level_0', 'index'], axis=1)\n",
    "ak_fires_2015.head()"
   ]
  },
  {
   "cell_type": "code",
   "execution_count": 30,
   "metadata": {},
   "outputs": [
    {
     "data": {
      "image/png": "[encoded data removed]",
      "text/plain": [
       "<matplotlib.figure.Figure at 0x7f544c34a390>"
      ]
     },
     "metadata": {},
     "output_type": "display_data"
    }
   ],
   "source": [
    "plt.figure(figsize=(16,12))\n",
    "\n",
    "x=ak_fires_2015['LONGITUDE']\n",
    "y=ak_fires_2015['LATITUDE']\n",
    "\n",
    "plt.scatter(x,y,color='r',s=[x/500 for x in ak_fires_2015['FIRE_SIZE']])\n",
    "\n",
    "plt.show()"
   ]
  },
  {
   "cell_type": "code",
   "execution_count": 31,
   "metadata": {},
   "outputs": [],
   "source": [
    "import pickle\n",
    "pickle_out = open('2015_fires.pkl', 'wb')\n",
    "pickle.dump(ak_fires_2015, pickle_out)\n",
    "pickle_out.close()"
   ]
  },
  {
   "cell_type": "code",
   "execution_count": null,
   "metadata": {},
   "outputs": [],
   "source": []
  }
 ],
 "metadata": {
  "kernelspec": {
   "display_name": "Python 3",
   "language": "python",
   "name": "python3"
  },
  "language_info": {
   "codemirror_mode": {
    "name": "ipython",
    "version": 3
   },
   "file_extension": ".py",
   "mimetype": "text/x-python",
   "name": "python",
   "nbconvert_exporter": "python",
   "pygments_lexer": "ipython3",
   "version": "3.6.4"
  }
 },
 "nbformat": 4,
 "nbformat_minor": 2
}
