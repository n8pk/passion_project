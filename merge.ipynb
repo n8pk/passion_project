{
 "cells": [
  {
   "cell_type": "code",
   "execution_count": 1,
   "metadata": {},
   "outputs": [],
   "source": [
    "import pandas as pd"
   ]
  },
  {
   "cell_type": "code",
   "execution_count": 2,
   "metadata": {},
   "outputs": [],
   "source": [
    "df_2015 = pd.read_csv('/home/nate/Desktop/fires/west/2015_fires.csv')\n",
    "df_2014 = pd.read_csv('/home/nate/Desktop/fires/west/2014_fires.csv')\n",
    "df_2013 = pd.read_csv('/home/nate/Desktop/fires/west/2013_fires.csv')\n",
    "df_2012 = pd.read_csv('/home/nate/Desktop/fires/west/2012_fires.csv')\n",
    "df_2011 = pd.read_csv('/home/nate/Desktop/fires/west/2011_fires.csv')\n",
    "df_2010 = pd.read_csv('/home/nate/Desktop/fires/west/2010_fires.csv')\n",
    "df_2009 = pd.read_csv('/home/nate/Desktop/fires/west/2009_fires.csv')\n",
    "df_2008 = pd.read_csv('/home/nate/Desktop/fires/west/2008_fires.csv')\n",
    "df_2007 = pd.read_csv('/home/nate/Desktop/fires/west/2007_fires.csv')\n",
    "df_2006 = pd.read_csv('/home/nate/Desktop/fires/west/2006_fires.csv')\n",
    "df_2005 = pd.read_csv('/home/nate/Desktop/fires/west/2005_fires.csv')\n",
    "df_2004 = pd.read_csv('/home/nate/Desktop/fires/west/2004_fires.csv')\n",
    "df_2003 = pd.read_csv('/home/nate/Desktop/fires/west/2003_fires.csv')\n",
    "df_2002 = pd.read_csv('/home/nate/Desktop/fires/west/2002_fires.csv')\n",
    "df_2001 = pd.read_csv('/home/nate/Desktop/fires/west/2001_fires.csv')\n",
    "df_2000 = pd.read_csv('/home/nate/Desktop/fires/west/2000_fires.csv')\n",
    "df_1999 = pd.read_csv('/home/nate/Desktop/fires/west/1999_fires.csv')\n",
    "df_1998 = pd.read_csv('/home/nate/Desktop/fires/west/1998_fires.csv')\n",
    "df_1997 = pd.read_csv('/home/nate/Desktop/fires/west/1997_fires.csv')\n",
    "df_1996 = pd.read_csv('/home/nate/Desktop/fires/west/1996_fires.csv')\n",
    "df_1995 = pd.read_csv('/home/nate/Desktop/fires/west/1995_fires.csv')\n",
    "df_1994 = pd.read_csv('/home/nate/Desktop/fires/west/1994_fires.csv')\n",
    "df_1993 = pd.read_csv('/home/nate/Desktop/fires/west/1993_fires.csv')\n",
    "df_1992 = pd.read_csv('/home/nate/Desktop/fires/west/1992_fires.csv')"
   ]
  },
  {
   "cell_type": "code",
   "execution_count": 3,
   "metadata": {},
   "outputs": [],
   "source": [
    "df = pd.concat([df_2015, df_2014, df_2013, df_2012, df_2011, df_2010,\n",
    "                df_2009, df_2008, df_2007, df_2006, df_2005, df_2004, \n",
    "                df_2003, df_2002, df_2001, df_2000, df_1999, df_1998, \n",
    "                df_1997, df_1996, df_1995, df_1994, df_1993, df_1992])"
   ]
  },
  {
   "cell_type": "code",
   "execution_count": 4,
   "metadata": {},
   "outputs": [],
   "source": [
    "df.to_csv('/home/nate/ds/metis/class_work/projects/project_kojak/notebooks/full_pnw.csv')"
   ]
  },
  {
   "cell_type": "code",
   "execution_count": null,
   "metadata": {},
   "outputs": [],
   "source": []
  }
 ],
 "metadata": {
  "kernelspec": {
   "display_name": "Python 3",
   "language": "python",
   "name": "python3"
  },
  "language_info": {
   "codemirror_mode": {
    "name": "ipython",
    "version": 3
   },
   "file_extension": ".py",
   "mimetype": "text/x-python",
   "name": "python",
   "nbconvert_exporter": "python",
   "pygments_lexer": "ipython3",
   "version": "3.6.4"
  }
 },
 "nbformat": 4,
 "nbformat_minor": 2
}
