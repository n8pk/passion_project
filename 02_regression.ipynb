{
 "cells": [
  {
   "cell_type": "code",
   "execution_count": 1,
   "metadata": {},
   "outputs": [],
   "source": [
    "import pandas as pd\n",
    "import numpy as np\n",
    "import matplotlib.pyplot as plt"
   ]
  },
  {
   "cell_type": "code",
   "execution_count": 59,
   "metadata": {},
   "outputs": [],
   "source": [
    "df = pd.read_pickle('2015_fires.pkl')"
   ]
  },
  {
   "cell_type": "code",
   "execution_count": 60,
   "metadata": {},
   "outputs": [],
   "source": [
    "natural = []\n",
    "\n",
    "for idx, row in df.iterrows():\n",
    "    if row[0] == 'Lightning':\n",
    "        natural.append(1)\n",
    "    else:\n",
    "        natural.append(0)\n",
    "\n",
    "df['natural_cause'] = natural"
   ]
  },
  {
   "cell_type": "code",
   "execution_count": 61,
   "metadata": {},
   "outputs": [
    {
     "data": {
      "text/html": [
       "<div>\n",
       "<style scoped>\n",
       "    .dataframe tbody tr th:only-of-type {\n",
       "        vertical-align: middle;\n",
       "    }\n",
       "\n",
       "    .dataframe tbody tr th {\n",
       "        vertical-align: top;\n",
       "    }\n",
       "\n",
       "    .dataframe thead th {\n",
       "        text-align: right;\n",
       "    }\n",
       "</style>\n",
       "<table border=\"1\" class=\"dataframe\">\n",
       "  <thead>\n",
       "    <tr style=\"text-align: right;\">\n",
       "      <th></th>\n",
       "      <th>STAT_CAUSE_DESCR</th>\n",
       "      <th>LATITUDE</th>\n",
       "      <th>LONGITUDE</th>\n",
       "      <th>STATE</th>\n",
       "      <th>DISCOVERY_DATE</th>\n",
       "      <th>FIRE_SIZE</th>\n",
       "      <th>DATE</th>\n",
       "      <th>MONTH</th>\n",
       "      <th>YEAR</th>\n",
       "      <th>DAY_OF_WEEK</th>\n",
       "      <th>MTHYR</th>\n",
       "      <th>tmax_5</th>\n",
       "      <th>tmin_5</th>\n",
       "      <th>prcp_5</th>\n",
       "      <th>snow_5</th>\n",
       "      <th>last_7</th>\n",
       "      <th>last_14</th>\n",
       "      <th>last_28</th>\n",
       "      <th>natural_cause</th>\n",
       "    </tr>\n",
       "  </thead>\n",
       "  <tbody>\n",
       "    <tr>\n",
       "      <th>0</th>\n",
       "      <td>Campfire</td>\n",
       "      <td>60.910278</td>\n",
       "      <td>-149.458611</td>\n",
       "      <td>AK</td>\n",
       "      <td>2457162.5</td>\n",
       "      <td>0.10</td>\n",
       "      <td>2015-05-20</td>\n",
       "      <td>5</td>\n",
       "      <td>2015</td>\n",
       "      <td>Wednesday</td>\n",
       "      <td>2015-5</td>\n",
       "      <td>15.68</td>\n",
       "      <td>3.20</td>\n",
       "      <td>0.0</td>\n",
       "      <td>0.0</td>\n",
       "      <td>0.000000</td>\n",
       "      <td>165.071429</td>\n",
       "      <td>98.750000</td>\n",
       "      <td>0</td>\n",
       "    </tr>\n",
       "    <tr>\n",
       "      <th>1</th>\n",
       "      <td>Campfire</td>\n",
       "      <td>60.507778</td>\n",
       "      <td>-149.811111</td>\n",
       "      <td>AK</td>\n",
       "      <td>2457173.5</td>\n",
       "      <td>0.10</td>\n",
       "      <td>2015-05-31</td>\n",
       "      <td>5</td>\n",
       "      <td>2015</td>\n",
       "      <td>Sunday</td>\n",
       "      <td>2015-5</td>\n",
       "      <td>25.78</td>\n",
       "      <td>5.54</td>\n",
       "      <td>0.0</td>\n",
       "      <td>0.0</td>\n",
       "      <td>0.714286</td>\n",
       "      <td>3.071429</td>\n",
       "      <td>23.500000</td>\n",
       "      <td>0</td>\n",
       "    </tr>\n",
       "    <tr>\n",
       "      <th>2</th>\n",
       "      <td>Campfire</td>\n",
       "      <td>60.435000</td>\n",
       "      <td>-149.343333</td>\n",
       "      <td>AK</td>\n",
       "      <td>2457220.5</td>\n",
       "      <td>0.10</td>\n",
       "      <td>2015-07-17</td>\n",
       "      <td>7</td>\n",
       "      <td>2015</td>\n",
       "      <td>Friday</td>\n",
       "      <td>2015-7</td>\n",
       "      <td>15.28</td>\n",
       "      <td>8.52</td>\n",
       "      <td>33.0</td>\n",
       "      <td>0.0</td>\n",
       "      <td>139.857143</td>\n",
       "      <td>77.714286</td>\n",
       "      <td>62.785714</td>\n",
       "      <td>0</td>\n",
       "    </tr>\n",
       "    <tr>\n",
       "      <th>3</th>\n",
       "      <td>Miscellaneous</td>\n",
       "      <td>60.399722</td>\n",
       "      <td>-149.643889</td>\n",
       "      <td>AK</td>\n",
       "      <td>2457214.5</td>\n",
       "      <td>0.17</td>\n",
       "      <td>2015-07-11</td>\n",
       "      <td>7</td>\n",
       "      <td>2015</td>\n",
       "      <td>Saturday</td>\n",
       "      <td>2015-7</td>\n",
       "      <td>18.80</td>\n",
       "      <td>7.96</td>\n",
       "      <td>13.2</td>\n",
       "      <td>0.0</td>\n",
       "      <td>10.571429</td>\n",
       "      <td>25.285714</td>\n",
       "      <td>13.928571</td>\n",
       "      <td>0</td>\n",
       "    </tr>\n",
       "    <tr>\n",
       "      <th>4</th>\n",
       "      <td>Campfire</td>\n",
       "      <td>60.814444</td>\n",
       "      <td>-149.536389</td>\n",
       "      <td>AK</td>\n",
       "      <td>2457164.5</td>\n",
       "      <td>61.60</td>\n",
       "      <td>2015-05-22</td>\n",
       "      <td>5</td>\n",
       "      <td>2015</td>\n",
       "      <td>Friday</td>\n",
       "      <td>2015-5</td>\n",
       "      <td>20.86</td>\n",
       "      <td>3.24</td>\n",
       "      <td>0.0</td>\n",
       "      <td>0.0</td>\n",
       "      <td>0.000000</td>\n",
       "      <td>72.500000</td>\n",
       "      <td>75.107143</td>\n",
       "      <td>0</td>\n",
       "    </tr>\n",
       "  </tbody>\n",
       "</table>\n",
       "</div>"
      ],
      "text/plain": [
       "  STAT_CAUSE_DESCR   LATITUDE   LONGITUDE STATE  DISCOVERY_DATE  FIRE_SIZE  \\\n",
       "0         Campfire  60.910278 -149.458611    AK       2457162.5       0.10   \n",
       "1         Campfire  60.507778 -149.811111    AK       2457173.5       0.10   \n",
       "2         Campfire  60.435000 -149.343333    AK       2457220.5       0.10   \n",
       "3    Miscellaneous  60.399722 -149.643889    AK       2457214.5       0.17   \n",
       "4         Campfire  60.814444 -149.536389    AK       2457164.5      61.60   \n",
       "\n",
       "        DATE  MONTH  YEAR DAY_OF_WEEK   MTHYR  tmax_5  tmin_5  prcp_5  snow_5  \\\n",
       "0 2015-05-20      5  2015   Wednesday  2015-5   15.68    3.20     0.0     0.0   \n",
       "1 2015-05-31      5  2015      Sunday  2015-5   25.78    5.54     0.0     0.0   \n",
       "2 2015-07-17      7  2015      Friday  2015-7   15.28    8.52    33.0     0.0   \n",
       "3 2015-07-11      7  2015    Saturday  2015-7   18.80    7.96    13.2     0.0   \n",
       "4 2015-05-22      5  2015      Friday  2015-5   20.86    3.24     0.0     0.0   \n",
       "\n",
       "       last_7     last_14    last_28  natural_cause  \n",
       "0    0.000000  165.071429  98.750000              0  \n",
       "1    0.714286    3.071429  23.500000              0  \n",
       "2  139.857143   77.714286  62.785714              0  \n",
       "3   10.571429   25.285714  13.928571              0  \n",
       "4    0.000000   72.500000  75.107143              0  "
      ]
     },
     "execution_count": 61,
     "metadata": {},
     "output_type": "execute_result"
    }
   ],
   "source": [
    "df.head()"
   ]
  },
  {
   "cell_type": "code",
   "execution_count": 62,
   "metadata": {},
   "outputs": [],
   "source": [
    "# df = df[df['FIRE_SIZE'] > 100]"
   ]
  },
  {
   "cell_type": "code",
   "execution_count": 63,
   "metadata": {},
   "outputs": [
    {
     "name": "stdout",
     "output_type": "stream",
     "text": [
      "                LATITUDE  LONGITUDE  DISCOVERY_DATE  FIRE_SIZE     MONTH  \\\n",
      "LATITUDE        1.000000  -0.069004        0.053674   0.180194  0.047325   \n",
      "LONGITUDE      -0.069004   1.000000       -0.155465  -0.181578 -0.108462   \n",
      "DISCOVERY_DATE  0.053674  -0.155465        1.000000   0.051217  0.972592   \n",
      "FIRE_SIZE       0.180194  -0.181578        0.051217   1.000000  0.029954   \n",
      "MONTH           0.047325  -0.108462        0.972592   0.029954  1.000000   \n",
      "YEAR                 NaN        NaN             NaN        NaN       NaN   \n",
      "tmax_5          0.312054  -0.174694        0.257351   0.246268  0.183291   \n",
      "tmin_5          0.228816  -0.335130        0.394323   0.253865  0.321011   \n",
      "prcp_5         -0.077918   0.124300        0.116672  -0.030498  0.112837   \n",
      "snow_5         -0.026204   0.011576       -0.082855  -0.011229 -0.072758   \n",
      "last_7         -0.282977   0.301591        0.179484  -0.105696  0.201399   \n",
      "last_14        -0.347245   0.337251        0.165891  -0.091890  0.181721   \n",
      "last_28        -0.438700   0.379006        0.129318  -0.111576  0.135702   \n",
      "natural_cause   0.354490  -0.454822        0.314818   0.245798  0.250559   \n",
      "\n",
      "                YEAR    tmax_5    tmin_5    prcp_5    snow_5    last_7  \\\n",
      "LATITUDE         NaN  0.312054  0.228816 -0.077918 -0.026204 -0.282977   \n",
      "LONGITUDE        NaN -0.174694 -0.335130  0.124300  0.011576  0.301591   \n",
      "DISCOVERY_DATE   NaN  0.257351  0.394323  0.116672 -0.082855  0.179484   \n",
      "FIRE_SIZE        NaN  0.246268  0.253865 -0.030498 -0.011229 -0.105696   \n",
      "MONTH            NaN  0.183291  0.321011  0.112837 -0.072758  0.201399   \n",
      "YEAR             NaN       NaN       NaN       NaN       NaN       NaN   \n",
      "tmax_5           NaN  1.000000  0.820729 -0.010539 -0.087716 -0.176446   \n",
      "tmin_5           NaN  0.820729  1.000000  0.090257 -0.065563 -0.056520   \n",
      "prcp_5           NaN -0.010539  0.090257  1.000000  0.048185  0.354545   \n",
      "snow_5           NaN -0.087716 -0.065563  0.048185  1.000000 -0.003566   \n",
      "last_7           NaN -0.176446 -0.056520  0.354545 -0.003566  1.000000   \n",
      "last_14          NaN -0.137292 -0.046497  0.258617 -0.017729  0.751563   \n",
      "last_28          NaN -0.178191 -0.070914  0.253821 -0.025369  0.646259   \n",
      "natural_cause    NaN  0.572641  0.624796 -0.005106 -0.043684 -0.178763   \n",
      "\n",
      "                 last_14   last_28  natural_cause  \n",
      "LATITUDE       -0.347245 -0.438700       0.354490  \n",
      "LONGITUDE       0.337251  0.379006      -0.454822  \n",
      "DISCOVERY_DATE  0.165891  0.129318       0.314818  \n",
      "FIRE_SIZE      -0.091890 -0.111576       0.245798  \n",
      "MONTH           0.181721  0.135702       0.250559  \n",
      "YEAR                 NaN       NaN            NaN  \n",
      "tmax_5         -0.137292 -0.178191       0.572641  \n",
      "tmin_5         -0.046497 -0.070914       0.624796  \n",
      "prcp_5          0.258617  0.253821      -0.005106  \n",
      "snow_5         -0.017729 -0.025369      -0.043684  \n",
      "last_7          0.751563  0.646259      -0.178763  \n",
      "last_14         1.000000  0.845143      -0.162215  \n",
      "last_28         0.845143  1.000000      -0.157032  \n",
      "natural_cause  -0.162215 -0.157032       1.000000  \n"
     ]
    }
   ],
   "source": [
    "print(df.corr(method='pearson'))"
   ]
  },
  {
   "cell_type": "code",
   "execution_count": 64,
   "metadata": {},
   "outputs": [],
   "source": [
    "from sklearn.feature_selection import RFE\n",
    "from sklearn.ensemble import ExtraTreesRegressor"
   ]
  },
  {
   "cell_type": "code",
   "execution_count": 65,
   "metadata": {},
   "outputs": [],
   "source": [
    "X = pd.concat([df.iloc[:,7], df.iloc[:,11:]], axis=1)\n",
    "Y = df.iloc[:,5]              "
   ]
  },
  {
   "cell_type": "code",
   "execution_count": 66,
   "metadata": {},
   "outputs": [
    {
     "data": {
      "text/plain": [
       "154"
      ]
     },
     "execution_count": 66,
     "metadata": {},
     "output_type": "execute_result"
    }
   ],
   "source": [
    "int(len(df)*.2)"
   ]
  },
  {
   "cell_type": "code",
   "execution_count": 67,
   "metadata": {},
   "outputs": [],
   "source": [
    "X_train = X.iloc[154:]\n",
    "Y_train = Y[154:]\n",
    "\n",
    "X_test = X.iloc[:154]\n",
    "Y_test = Y[:154]"
   ]
  },
  {
   "cell_type": "code",
   "execution_count": 79,
   "metadata": {},
   "outputs": [],
   "source": [
    "etr = ExtraTreesRegressor()\n",
    "rfe = RFE(etr, 5)\n",
    "fit = rfe.fit(X_train, Y_train)"
   ]
  },
  {
   "cell_type": "code",
   "execution_count": 80,
   "metadata": {},
   "outputs": [
    {
     "data": {
      "text/plain": [
       "array([4, 1, 1, 3, 5, 1, 1, 1, 2])"
      ]
     },
     "execution_count": 80,
     "metadata": {},
     "output_type": "execute_result"
    }
   ],
   "source": [
    "fit.ranking_"
   ]
  },
  {
   "cell_type": "code",
   "execution_count": null,
   "metadata": {},
   "outputs": [],
   "source": []
  }
 ],
 "metadata": {
  "kernelspec": {
   "display_name": "Python 3",
   "language": "python",
   "name": "python3"
  },
  "language_info": {
   "codemirror_mode": {
    "name": "ipython",
    "version": 3
   },
   "file_extension": ".py",
   "mimetype": "text/x-python",
   "name": "python",
   "nbconvert_exporter": "python",
   "pygments_lexer": "ipython3",
   "version": "3.6.4"
  }
 },
 "nbformat": 4,
 "nbformat_minor": 2
}
