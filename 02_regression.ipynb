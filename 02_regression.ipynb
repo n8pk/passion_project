{
 "cells": [
  {
   "cell_type": "code",
   "execution_count": 1,
   "metadata": {},
   "outputs": [],
   "source": [
    "import pandas as pd\n",
    "import numpy as np\n",
    "import matplotlib.pyplot as plt\n",
    "import seaborn as sns"
   ]
  },
  {
   "cell_type": "code",
   "execution_count": 2,
   "metadata": {},
   "outputs": [],
   "source": [
    "df = pd.read_pickle('2015_fires.pkl')"
   ]
  },
  {
   "cell_type": "code",
   "execution_count": 3,
   "metadata": {},
   "outputs": [],
   "source": [
    "natural = []\n",
    "\n",
    "for idx, row in df.iterrows():\n",
    "    if row[0] == 'Lightning':\n",
    "        natural.append(1)\n",
    "    else:\n",
    "        natural.append(0)\n",
    "\n",
    "df['natural_cause'] = natural"
   ]
  },
  {
   "cell_type": "code",
   "execution_count": 4,
   "metadata": {},
   "outputs": [
    {
     "data": {
      "text/html": [
       "<div>\n",
       "<style scoped>\n",
       "    .dataframe tbody tr th:only-of-type {\n",
       "        vertical-align: middle;\n",
       "    }\n",
       "\n",
       "    .dataframe tbody tr th {\n",
       "        vertical-align: top;\n",
       "    }\n",
       "\n",
       "    .dataframe thead th {\n",
       "        text-align: right;\n",
       "    }\n",
       "</style>\n",
       "<table border=\"1\" class=\"dataframe\">\n",
       "  <thead>\n",
       "    <tr style=\"text-align: right;\">\n",
       "      <th></th>\n",
       "      <th>STAT_CAUSE_DESCR</th>\n",
       "      <th>LATITUDE</th>\n",
       "      <th>LONGITUDE</th>\n",
       "      <th>STATE</th>\n",
       "      <th>DISCOVERY_DATE</th>\n",
       "      <th>FIRE_SIZE</th>\n",
       "      <th>DATE</th>\n",
       "      <th>MONTH</th>\n",
       "      <th>YEAR</th>\n",
       "      <th>DAY_OF_WEEK</th>\n",
       "      <th>MTHYR</th>\n",
       "      <th>tmax_5</th>\n",
       "      <th>tmin_5</th>\n",
       "      <th>prcp_5</th>\n",
       "      <th>snow_5</th>\n",
       "      <th>last_7</th>\n",
       "      <th>last_14</th>\n",
       "      <th>last_28</th>\n",
       "      <th>natural_cause</th>\n",
       "    </tr>\n",
       "  </thead>\n",
       "  <tbody>\n",
       "    <tr>\n",
       "      <th>0</th>\n",
       "      <td>Campfire</td>\n",
       "      <td>60.910278</td>\n",
       "      <td>-149.458611</td>\n",
       "      <td>AK</td>\n",
       "      <td>2457162.5</td>\n",
       "      <td>0.10</td>\n",
       "      <td>2015-05-20</td>\n",
       "      <td>5</td>\n",
       "      <td>2015</td>\n",
       "      <td>Wednesday</td>\n",
       "      <td>2015-5</td>\n",
       "      <td>15.68</td>\n",
       "      <td>3.20</td>\n",
       "      <td>0.0</td>\n",
       "      <td>0.0</td>\n",
       "      <td>0.000000</td>\n",
       "      <td>165.071429</td>\n",
       "      <td>98.750000</td>\n",
       "      <td>0</td>\n",
       "    </tr>\n",
       "    <tr>\n",
       "      <th>1</th>\n",
       "      <td>Campfire</td>\n",
       "      <td>60.507778</td>\n",
       "      <td>-149.811111</td>\n",
       "      <td>AK</td>\n",
       "      <td>2457173.5</td>\n",
       "      <td>0.10</td>\n",
       "      <td>2015-05-31</td>\n",
       "      <td>5</td>\n",
       "      <td>2015</td>\n",
       "      <td>Sunday</td>\n",
       "      <td>2015-5</td>\n",
       "      <td>25.78</td>\n",
       "      <td>5.54</td>\n",
       "      <td>0.0</td>\n",
       "      <td>0.0</td>\n",
       "      <td>0.714286</td>\n",
       "      <td>3.071429</td>\n",
       "      <td>23.500000</td>\n",
       "      <td>0</td>\n",
       "    </tr>\n",
       "    <tr>\n",
       "      <th>2</th>\n",
       "      <td>Campfire</td>\n",
       "      <td>60.435000</td>\n",
       "      <td>-149.343333</td>\n",
       "      <td>AK</td>\n",
       "      <td>2457220.5</td>\n",
       "      <td>0.10</td>\n",
       "      <td>2015-07-17</td>\n",
       "      <td>7</td>\n",
       "      <td>2015</td>\n",
       "      <td>Friday</td>\n",
       "      <td>2015-7</td>\n",
       "      <td>15.28</td>\n",
       "      <td>8.52</td>\n",
       "      <td>33.0</td>\n",
       "      <td>0.0</td>\n",
       "      <td>139.857143</td>\n",
       "      <td>77.714286</td>\n",
       "      <td>62.785714</td>\n",
       "      <td>0</td>\n",
       "    </tr>\n",
       "    <tr>\n",
       "      <th>3</th>\n",
       "      <td>Miscellaneous</td>\n",
       "      <td>60.399722</td>\n",
       "      <td>-149.643889</td>\n",
       "      <td>AK</td>\n",
       "      <td>2457214.5</td>\n",
       "      <td>0.17</td>\n",
       "      <td>2015-07-11</td>\n",
       "      <td>7</td>\n",
       "      <td>2015</td>\n",
       "      <td>Saturday</td>\n",
       "      <td>2015-7</td>\n",
       "      <td>18.80</td>\n",
       "      <td>7.96</td>\n",
       "      <td>13.2</td>\n",
       "      <td>0.0</td>\n",
       "      <td>10.571429</td>\n",
       "      <td>25.285714</td>\n",
       "      <td>13.928571</td>\n",
       "      <td>0</td>\n",
       "    </tr>\n",
       "    <tr>\n",
       "      <th>4</th>\n",
       "      <td>Campfire</td>\n",
       "      <td>60.814444</td>\n",
       "      <td>-149.536389</td>\n",
       "      <td>AK</td>\n",
       "      <td>2457164.5</td>\n",
       "      <td>61.60</td>\n",
       "      <td>2015-05-22</td>\n",
       "      <td>5</td>\n",
       "      <td>2015</td>\n",
       "      <td>Friday</td>\n",
       "      <td>2015-5</td>\n",
       "      <td>20.86</td>\n",
       "      <td>3.24</td>\n",
       "      <td>0.0</td>\n",
       "      <td>0.0</td>\n",
       "      <td>0.000000</td>\n",
       "      <td>72.500000</td>\n",
       "      <td>75.107143</td>\n",
       "      <td>0</td>\n",
       "    </tr>\n",
       "  </tbody>\n",
       "</table>\n",
       "</div>"
      ],
      "text/plain": [
       "  STAT_CAUSE_DESCR   LATITUDE   LONGITUDE STATE  DISCOVERY_DATE  FIRE_SIZE  \\\n",
       "0         Campfire  60.910278 -149.458611    AK       2457162.5       0.10   \n",
       "1         Campfire  60.507778 -149.811111    AK       2457173.5       0.10   \n",
       "2         Campfire  60.435000 -149.343333    AK       2457220.5       0.10   \n",
       "3    Miscellaneous  60.399722 -149.643889    AK       2457214.5       0.17   \n",
       "4         Campfire  60.814444 -149.536389    AK       2457164.5      61.60   \n",
       "\n",
       "        DATE  MONTH  YEAR DAY_OF_WEEK   MTHYR  tmax_5  tmin_5  prcp_5  snow_5  \\\n",
       "0 2015-05-20      5  2015   Wednesday  2015-5   15.68    3.20     0.0     0.0   \n",
       "1 2015-05-31      5  2015      Sunday  2015-5   25.78    5.54     0.0     0.0   \n",
       "2 2015-07-17      7  2015      Friday  2015-7   15.28    8.52    33.0     0.0   \n",
       "3 2015-07-11      7  2015    Saturday  2015-7   18.80    7.96    13.2     0.0   \n",
       "4 2015-05-22      5  2015      Friday  2015-5   20.86    3.24     0.0     0.0   \n",
       "\n",
       "       last_7     last_14    last_28  natural_cause  \n",
       "0    0.000000  165.071429  98.750000              0  \n",
       "1    0.714286    3.071429  23.500000              0  \n",
       "2  139.857143   77.714286  62.785714              0  \n",
       "3   10.571429   25.285714  13.928571              0  \n",
       "4    0.000000   72.500000  75.107143              0  "
      ]
     },
     "execution_count": 4,
     "metadata": {},
     "output_type": "execute_result"
    }
   ],
   "source": [
    "df.head()"
   ]
  },
  {
   "cell_type": "code",
   "execution_count": 5,
   "metadata": {},
   "outputs": [],
   "source": [
    "# df = df[df['FIRE_SIZE'] > 100]"
   ]
  },
  {
   "cell_type": "code",
   "execution_count": 6,
   "metadata": {},
   "outputs": [
    {
     "name": "stdout",
     "output_type": "stream",
     "text": [
      "                LATITUDE  LONGITUDE  DISCOVERY_DATE  FIRE_SIZE     MONTH  \\\n",
      "LATITUDE        1.000000  -0.069004        0.053674   0.180194  0.047325   \n",
      "LONGITUDE      -0.069004   1.000000       -0.155465  -0.181578 -0.108462   \n",
      "DISCOVERY_DATE  0.053674  -0.155465        1.000000   0.051217  0.972592   \n",
      "FIRE_SIZE       0.180194  -0.181578        0.051217   1.000000  0.029954   \n",
      "MONTH           0.047325  -0.108462        0.972592   0.029954  1.000000   \n",
      "YEAR                 NaN        NaN             NaN        NaN       NaN   \n",
      "tmax_5          0.312054  -0.174694        0.257351   0.246268  0.183291   \n",
      "tmin_5          0.228816  -0.335130        0.394323   0.253865  0.321011   \n",
      "prcp_5         -0.077918   0.124300        0.116672  -0.030498  0.112837   \n",
      "snow_5         -0.026204   0.011576       -0.082855  -0.011229 -0.072758   \n",
      "last_7         -0.282977   0.301591        0.179484  -0.105696  0.201399   \n",
      "last_14        -0.347245   0.337251        0.165891  -0.091890  0.181721   \n",
      "last_28        -0.438700   0.379006        0.129318  -0.111576  0.135702   \n",
      "natural_cause   0.354490  -0.454822        0.314818   0.245798  0.250559   \n",
      "\n",
      "                YEAR    tmax_5    tmin_5    prcp_5    snow_5    last_7  \\\n",
      "LATITUDE         NaN  0.312054  0.228816 -0.077918 -0.026204 -0.282977   \n",
      "LONGITUDE        NaN -0.174694 -0.335130  0.124300  0.011576  0.301591   \n",
      "DISCOVERY_DATE   NaN  0.257351  0.394323  0.116672 -0.082855  0.179484   \n",
      "FIRE_SIZE        NaN  0.246268  0.253865 -0.030498 -0.011229 -0.105696   \n",
      "MONTH            NaN  0.183291  0.321011  0.112837 -0.072758  0.201399   \n",
      "YEAR             NaN       NaN       NaN       NaN       NaN       NaN   \n",
      "tmax_5           NaN  1.000000  0.820729 -0.010539 -0.087716 -0.176446   \n",
      "tmin_5           NaN  0.820729  1.000000  0.090257 -0.065563 -0.056520   \n",
      "prcp_5           NaN -0.010539  0.090257  1.000000  0.048185  0.354545   \n",
      "snow_5           NaN -0.087716 -0.065563  0.048185  1.000000 -0.003566   \n",
      "last_7           NaN -0.176446 -0.056520  0.354545 -0.003566  1.000000   \n",
      "last_14          NaN -0.137292 -0.046497  0.258617 -0.017729  0.751563   \n",
      "last_28          NaN -0.178191 -0.070914  0.253821 -0.025369  0.646259   \n",
      "natural_cause    NaN  0.572641  0.624796 -0.005106 -0.043684 -0.178763   \n",
      "\n",
      "                 last_14   last_28  natural_cause  \n",
      "LATITUDE       -0.347245 -0.438700       0.354490  \n",
      "LONGITUDE       0.337251  0.379006      -0.454822  \n",
      "DISCOVERY_DATE  0.165891  0.129318       0.314818  \n",
      "FIRE_SIZE      -0.091890 -0.111576       0.245798  \n",
      "MONTH           0.181721  0.135702       0.250559  \n",
      "YEAR                 NaN       NaN            NaN  \n",
      "tmax_5         -0.137292 -0.178191       0.572641  \n",
      "tmin_5         -0.046497 -0.070914       0.624796  \n",
      "prcp_5          0.258617  0.253821      -0.005106  \n",
      "snow_5         -0.017729 -0.025369      -0.043684  \n",
      "last_7          0.751563  0.646259      -0.178763  \n",
      "last_14         1.000000  0.845143      -0.162215  \n",
      "last_28         0.845143  1.000000      -0.157032  \n",
      "natural_cause  -0.162215 -0.157032       1.000000  \n"
     ]
    }
   ],
   "source": [
    "print(df.corr(method='pearson'))"
   ]
  },
  {
   "cell_type": "code",
   "execution_count": 7,
   "metadata": {},
   "outputs": [
    {
     "name": "stdout",
     "output_type": "stream",
     "text": [
      "               FIRE_SIZE     MONTH    tmax_5    tmin_5    prcp_5    snow_5  \\\n",
      "FIRE_SIZE       1.000000  0.029954  0.246268  0.253865 -0.030498 -0.011229   \n",
      "MONTH           0.029954  1.000000  0.183291  0.321011  0.112837 -0.072758   \n",
      "tmax_5          0.246268  0.183291  1.000000  0.820729 -0.010539 -0.087716   \n",
      "tmin_5          0.253865  0.321011  0.820729  1.000000  0.090257 -0.065563   \n",
      "prcp_5         -0.030498  0.112837 -0.010539  0.090257  1.000000  0.048185   \n",
      "snow_5         -0.011229 -0.072758 -0.087716 -0.065563  0.048185  1.000000   \n",
      "last_7         -0.105696  0.201399 -0.176446 -0.056520  0.354545 -0.003566   \n",
      "last_14        -0.091890  0.181721 -0.137292 -0.046497  0.258617 -0.017729   \n",
      "last_28        -0.111576  0.135702 -0.178191 -0.070914  0.253821 -0.025369   \n",
      "natural_cause   0.245798  0.250559  0.572641  0.624796 -0.005106 -0.043684   \n",
      "\n",
      "                 last_7   last_14   last_28  natural_cause  \n",
      "FIRE_SIZE     -0.105696 -0.091890 -0.111576       0.245798  \n",
      "MONTH          0.201399  0.181721  0.135702       0.250559  \n",
      "tmax_5        -0.176446 -0.137292 -0.178191       0.572641  \n",
      "tmin_5        -0.056520 -0.046497 -0.070914       0.624796  \n",
      "prcp_5         0.354545  0.258617  0.253821      -0.005106  \n",
      "snow_5        -0.003566 -0.017729 -0.025369      -0.043684  \n",
      "last_7         1.000000  0.751563  0.646259      -0.178763  \n",
      "last_14        0.751563  1.000000  0.845143      -0.162215  \n",
      "last_28        0.646259  0.845143  1.000000      -0.157032  \n",
      "natural_cause -0.178763 -0.162215 -0.157032       1.000000  \n"
     ]
    }
   ],
   "source": [
    "feat_df = pd.concat([df.iloc[:,5], df.iloc[:,7], df.iloc[:,11:]], axis=1)\n",
    "\n",
    "print(feat_df.corr(method='pearson'))"
   ]
  },
  {
   "cell_type": "code",
   "execution_count": 8,
   "metadata": {},
   "outputs": [],
   "source": [
    "from sklearn.feature_selection import RFE\n",
    "from sklearn.ensemble import ExtraTreesRegressor"
   ]
  },
  {
   "cell_type": "code",
   "execution_count": 27,
   "metadata": {},
   "outputs": [],
   "source": [
    "X = pd.concat([df.iloc[:,7], df.iloc[:,11:]], axis=1)\n",
    "y = df.iloc[:,5]              "
   ]
  },
  {
   "cell_type": "code",
   "execution_count": 28,
   "metadata": {},
   "outputs": [],
   "source": [
    "etr = ExtraTreesRegressor(random_state = 42)\n",
    "rfe = RFE(etr, 1)\n",
    "fit = rfe.fit(X, y)"
   ]
  },
  {
   "cell_type": "code",
   "execution_count": 29,
   "metadata": {},
   "outputs": [
    {
     "name": "stdout",
     "output_type": "stream",
     "text": [
      "Rank 1: last_28, column 7\n",
      "Rank 2: tmax_5, column 1\n",
      "Rank 3: MONTH, column 0\n",
      "Rank 4: last_14, column 6\n",
      "Rank 5: natural_cause, column 8\n",
      "Rank 6: snow_5, column 4\n",
      "Rank 7: prcp_5, column 3\n",
      "Rank 8: tmin_5, column 2\n",
      "Rank 9: last_7, column 5\n"
     ]
    }
   ],
   "source": [
    "colnames = X.columns\n",
    "colranks = fit.ranking_\n",
    "\n",
    "for i, rank in enumerate(colranks):\n",
    "    colname = colnames[rank-1]\n",
    "    print('Rank {}: '.format(i+1) + colname + ', column {}'.format(rank-1))"
   ]
  },
  {
   "cell_type": "markdown",
   "metadata": {},
   "source": [
    "#### due to correlations etc etc...\n",
    "\n",
    "#### initial max features can be 4: last_28, tmax_5, natural_cause, prcp_5"
   ]
  },
  {
   "cell_type": "code",
   "execution_count": 30,
   "metadata": {},
   "outputs": [],
   "source": [
    "X = pd.concat([X.iloc[:,1], X.iloc[:,3], X.iloc[:,7], X.iloc[:,8]])\n",
    "X = X.values.reshape(-1,4)"
   ]
  },
  {
   "cell_type": "code",
   "execution_count": 17,
   "metadata": {},
   "outputs": [],
   "source": [
    "from sklearn.model_selection import StratifiedKFold"
   ]
  },
  {
   "cell_type": "code",
   "execution_count": 18,
   "metadata": {},
   "outputs": [],
   "source": [
    "skf = StratifiedKFold(n_splits = 10, random_state = 42)"
   ]
  },
  {
   "cell_type": "code",
   "execution_count": 19,
   "metadata": {},
   "outputs": [],
   "source": [
    "from sklearn.linear_model import LinearRegression\n",
    "from sklearn.ensemble import RandomForestRegressor\n",
    "from sklearn.tree import DecisionTreeRegressor\n",
    "from sklearn.neighbors import KNeighborsRegressor\n",
    "from sklearn.svm import SVR\n",
    "from sklearn.ensemble import GradientBoostingRegressor\n",
    "from sklearn.linear_model import Ridge\n",
    "from sklearn.linear_model import Lasso\n",
    "from sklearn.linear_model import ElasticNet\n",
    "\n",
    "from sklearn.metrics import mean_squared_error"
   ]
  },
  {
   "cell_type": "code",
   "execution_count": 20,
   "metadata": {},
   "outputs": [],
   "source": [
    "def in_sample_error(model, X_train, y_train):\n",
    "    predict = model.predict(X_train)\n",
    "    mse = mean_squared_error(y_train, predict)\n",
    "    return np.sqrt(mse)\n",
    "\n",
    "def out_sample_error(model, X_test, y_test):\n",
    "    predict = model.predict(X_test)\n",
    "    mse = mean_squared_error(y_test, predict)\n",
    "    return np.sqrt(mse)\n",
    "\n",
    "def errors(model, X_train, y_train, X_test, y_test):\n",
    "    model.fit(X_train, y_train)\n",
    "    training_error = in_sample_error(model, X_train, y_train)\n",
    "    testing_error = out_sample_error(model, X_test, y_test)\n",
    "    return training_error, testing_error"
   ]
  },
  {
   "cell_type": "code",
   "execution_count": null,
   "metadata": {},
   "outputs": [],
   "source": [
    "models = \n",
    "\n",
    "\n"
   ]
  },
  {
   "cell_type": "code",
   "execution_count": 35,
   "metadata": {},
   "outputs": [
    {
     "data": {
      "text/plain": [
       "<generator object _BaseKFold.split at 0x7f19681f9e08>"
      ]
     },
     "execution_count": 35,
     "metadata": {},
     "output_type": "execute_result"
    }
   ],
   "source": [
    "for model in models:\n",
    "    \n",
    "    model_train_error = []\n",
    "    model_test_error = []\n",
    "\n",
    "    for train_index, test_index in skf.split(X, y):\n",
    "    \n",
    "        X_train, y_train = X[train_index], y[train_index]\n",
    "        X_test, y_test = X[test_index], y[test_index]\n",
    "    \n",
    "        train_error, test_error = errors(model, X_train, y_train, X_test, y_test)"
   ]
  },
  {
   "cell_type": "code",
   "execution_count": 31,
   "metadata": {},
   "outputs": [
    {
     "ename": "ValueError",
     "evalue": "Supported target types are: ('binary', 'multiclass'). Got 'continuous' instead.",
     "output_type": "error",
     "traceback": [
      "\u001b[0;31m---------------------------------------------------------------------------\u001b[0m",
      "\u001b[0;31mValueError\u001b[0m                                Traceback (most recent call last)",
      "\u001b[0;32m<ipython-input-31-4b599655eba3>\u001b[0m in \u001b[0;36m<module>\u001b[0;34m()\u001b[0m\n\u001b[0;32m----> 1\u001b[0;31m \u001b[0;32mfor\u001b[0m \u001b[0mtrain_index\u001b[0m\u001b[0;34m,\u001b[0m \u001b[0mtest_index\u001b[0m \u001b[0;32min\u001b[0m \u001b[0mskf\u001b[0m\u001b[0;34m.\u001b[0m\u001b[0msplit\u001b[0m\u001b[0;34m(\u001b[0m\u001b[0mX\u001b[0m\u001b[0;34m,\u001b[0m \u001b[0my\u001b[0m\u001b[0;34m)\u001b[0m\u001b[0;34m:\u001b[0m\u001b[0;34m\u001b[0m\u001b[0m\n\u001b[0m\u001b[1;32m      2\u001b[0m \u001b[0;34m\u001b[0m\u001b[0m\n\u001b[1;32m      3\u001b[0m     \u001b[0mX_train\u001b[0m\u001b[0;34m,\u001b[0m \u001b[0my_train\u001b[0m \u001b[0;34m=\u001b[0m \u001b[0mX\u001b[0m\u001b[0;34m[\u001b[0m\u001b[0mtrain_index\u001b[0m\u001b[0;34m]\u001b[0m\u001b[0;34m,\u001b[0m \u001b[0my\u001b[0m\u001b[0;34m[\u001b[0m\u001b[0mtrain_index\u001b[0m\u001b[0;34m]\u001b[0m\u001b[0;34m\u001b[0m\u001b[0m\n\u001b[1;32m      4\u001b[0m     \u001b[0mX_test\u001b[0m\u001b[0;34m,\u001b[0m \u001b[0my_test\u001b[0m \u001b[0;34m=\u001b[0m \u001b[0mX\u001b[0m\u001b[0;34m[\u001b[0m\u001b[0mtest_index\u001b[0m\u001b[0;34m]\u001b[0m\u001b[0;34m,\u001b[0m \u001b[0my\u001b[0m\u001b[0;34m[\u001b[0m\u001b[0mtest_index\u001b[0m\u001b[0;34m]\u001b[0m\u001b[0;34m\u001b[0m\u001b[0m\n\u001b[1;32m      5\u001b[0m \u001b[0;34m\u001b[0m\u001b[0m\n",
      "\u001b[0;32m~/anaconda/lib/python3.6/site-packages/sklearn/model_selection/_split.py\u001b[0m in \u001b[0;36msplit\u001b[0;34m(self, X, y, groups)\u001b[0m\n\u001b[1;32m    330\u001b[0m                                                              n_samples))\n\u001b[1;32m    331\u001b[0m \u001b[0;34m\u001b[0m\u001b[0m\n\u001b[0;32m--> 332\u001b[0;31m         \u001b[0;32mfor\u001b[0m \u001b[0mtrain\u001b[0m\u001b[0;34m,\u001b[0m \u001b[0mtest\u001b[0m \u001b[0;32min\u001b[0m \u001b[0msuper\u001b[0m\u001b[0;34m(\u001b[0m\u001b[0m_BaseKFold\u001b[0m\u001b[0;34m,\u001b[0m \u001b[0mself\u001b[0m\u001b[0;34m)\u001b[0m\u001b[0;34m.\u001b[0m\u001b[0msplit\u001b[0m\u001b[0;34m(\u001b[0m\u001b[0mX\u001b[0m\u001b[0;34m,\u001b[0m \u001b[0my\u001b[0m\u001b[0;34m,\u001b[0m \u001b[0mgroups\u001b[0m\u001b[0;34m)\u001b[0m\u001b[0;34m:\u001b[0m\u001b[0;34m\u001b[0m\u001b[0m\n\u001b[0m\u001b[1;32m    333\u001b[0m             \u001b[0;32myield\u001b[0m \u001b[0mtrain\u001b[0m\u001b[0;34m,\u001b[0m \u001b[0mtest\u001b[0m\u001b[0;34m\u001b[0m\u001b[0m\n\u001b[1;32m    334\u001b[0m \u001b[0;34m\u001b[0m\u001b[0m\n",
      "\u001b[0;32m~/anaconda/lib/python3.6/site-packages/sklearn/model_selection/_split.py\u001b[0m in \u001b[0;36msplit\u001b[0;34m(self, X, y, groups)\u001b[0m\n\u001b[1;32m     93\u001b[0m         \u001b[0mX\u001b[0m\u001b[0;34m,\u001b[0m \u001b[0my\u001b[0m\u001b[0;34m,\u001b[0m \u001b[0mgroups\u001b[0m \u001b[0;34m=\u001b[0m \u001b[0mindexable\u001b[0m\u001b[0;34m(\u001b[0m\u001b[0mX\u001b[0m\u001b[0;34m,\u001b[0m \u001b[0my\u001b[0m\u001b[0;34m,\u001b[0m \u001b[0mgroups\u001b[0m\u001b[0;34m)\u001b[0m\u001b[0;34m\u001b[0m\u001b[0m\n\u001b[1;32m     94\u001b[0m         \u001b[0mindices\u001b[0m \u001b[0;34m=\u001b[0m \u001b[0mnp\u001b[0m\u001b[0;34m.\u001b[0m\u001b[0marange\u001b[0m\u001b[0;34m(\u001b[0m\u001b[0m_num_samples\u001b[0m\u001b[0;34m(\u001b[0m\u001b[0mX\u001b[0m\u001b[0;34m)\u001b[0m\u001b[0;34m)\u001b[0m\u001b[0;34m\u001b[0m\u001b[0m\n\u001b[0;32m---> 95\u001b[0;31m         \u001b[0;32mfor\u001b[0m \u001b[0mtest_index\u001b[0m \u001b[0;32min\u001b[0m \u001b[0mself\u001b[0m\u001b[0;34m.\u001b[0m\u001b[0m_iter_test_masks\u001b[0m\u001b[0;34m(\u001b[0m\u001b[0mX\u001b[0m\u001b[0;34m,\u001b[0m \u001b[0my\u001b[0m\u001b[0;34m,\u001b[0m \u001b[0mgroups\u001b[0m\u001b[0;34m)\u001b[0m\u001b[0;34m:\u001b[0m\u001b[0;34m\u001b[0m\u001b[0m\n\u001b[0m\u001b[1;32m     96\u001b[0m             \u001b[0mtrain_index\u001b[0m \u001b[0;34m=\u001b[0m \u001b[0mindices\u001b[0m\u001b[0;34m[\u001b[0m\u001b[0mnp\u001b[0m\u001b[0;34m.\u001b[0m\u001b[0mlogical_not\u001b[0m\u001b[0;34m(\u001b[0m\u001b[0mtest_index\u001b[0m\u001b[0;34m)\u001b[0m\u001b[0;34m]\u001b[0m\u001b[0;34m\u001b[0m\u001b[0m\n\u001b[1;32m     97\u001b[0m             \u001b[0mtest_index\u001b[0m \u001b[0;34m=\u001b[0m \u001b[0mindices\u001b[0m\u001b[0;34m[\u001b[0m\u001b[0mtest_index\u001b[0m\u001b[0;34m]\u001b[0m\u001b[0;34m\u001b[0m\u001b[0m\n",
      "\u001b[0;32m~/anaconda/lib/python3.6/site-packages/sklearn/model_selection/_split.py\u001b[0m in \u001b[0;36m_iter_test_masks\u001b[0;34m(self, X, y, groups)\u001b[0m\n\u001b[1;32m    632\u001b[0m \u001b[0;34m\u001b[0m\u001b[0m\n\u001b[1;32m    633\u001b[0m     \u001b[0;32mdef\u001b[0m \u001b[0m_iter_test_masks\u001b[0m\u001b[0;34m(\u001b[0m\u001b[0mself\u001b[0m\u001b[0;34m,\u001b[0m \u001b[0mX\u001b[0m\u001b[0;34m,\u001b[0m \u001b[0my\u001b[0m\u001b[0;34m=\u001b[0m\u001b[0;32mNone\u001b[0m\u001b[0;34m,\u001b[0m \u001b[0mgroups\u001b[0m\u001b[0;34m=\u001b[0m\u001b[0;32mNone\u001b[0m\u001b[0;34m)\u001b[0m\u001b[0;34m:\u001b[0m\u001b[0;34m\u001b[0m\u001b[0m\n\u001b[0;32m--> 634\u001b[0;31m         \u001b[0mtest_folds\u001b[0m \u001b[0;34m=\u001b[0m \u001b[0mself\u001b[0m\u001b[0;34m.\u001b[0m\u001b[0m_make_test_folds\u001b[0m\u001b[0;34m(\u001b[0m\u001b[0mX\u001b[0m\u001b[0;34m,\u001b[0m \u001b[0my\u001b[0m\u001b[0;34m)\u001b[0m\u001b[0;34m\u001b[0m\u001b[0m\n\u001b[0m\u001b[1;32m    635\u001b[0m         \u001b[0;32mfor\u001b[0m \u001b[0mi\u001b[0m \u001b[0;32min\u001b[0m \u001b[0mrange\u001b[0m\u001b[0;34m(\u001b[0m\u001b[0mself\u001b[0m\u001b[0;34m.\u001b[0m\u001b[0mn_splits\u001b[0m\u001b[0;34m)\u001b[0m\u001b[0;34m:\u001b[0m\u001b[0;34m\u001b[0m\u001b[0m\n\u001b[1;32m    636\u001b[0m             \u001b[0;32myield\u001b[0m \u001b[0mtest_folds\u001b[0m \u001b[0;34m==\u001b[0m \u001b[0mi\u001b[0m\u001b[0;34m\u001b[0m\u001b[0m\n",
      "\u001b[0;32m~/anaconda/lib/python3.6/site-packages/sklearn/model_selection/_split.py\u001b[0m in \u001b[0;36m_make_test_folds\u001b[0;34m(self, X, y)\u001b[0m\n\u001b[1;32m    587\u001b[0m             raise ValueError(\n\u001b[1;32m    588\u001b[0m                 'Supported target types are: {}. Got {!r} instead.'.format(\n\u001b[0;32m--> 589\u001b[0;31m                     allowed_target_types, type_of_target_y))\n\u001b[0m\u001b[1;32m    590\u001b[0m \u001b[0;34m\u001b[0m\u001b[0m\n\u001b[1;32m    591\u001b[0m         \u001b[0my\u001b[0m \u001b[0;34m=\u001b[0m \u001b[0mcolumn_or_1d\u001b[0m\u001b[0;34m(\u001b[0m\u001b[0my\u001b[0m\u001b[0;34m)\u001b[0m\u001b[0;34m\u001b[0m\u001b[0m\n",
      "\u001b[0;31mValueError\u001b[0m: Supported target types are: ('binary', 'multiclass'). Got 'continuous' instead."
     ]
    }
   ],
   "source": [
    "for train_index, test_index in skf.split(X, y):\n",
    "\n",
    "    X_train, y_train = X[train_index], y[train_index]\n",
    "    X_test, y_test = X[test_index], y[test_index]\n",
    "    \n",
    "    print(X_train)"
   ]
  },
  {
   "cell_type": "code",
   "execution_count": null,
   "metadata": {},
   "outputs": [],
   "source": []
  }
 ],
 "metadata": {
  "kernelspec": {
   "display_name": "Python 3",
   "language": "python",
   "name": "python3"
  },
  "language_info": {
   "codemirror_mode": {
    "name": "ipython",
    "version": 3
   },
   "file_extension": ".py",
   "mimetype": "text/x-python",
   "name": "python",
   "nbconvert_exporter": "python",
   "pygments_lexer": "ipython3",
   "version": "3.6.4"
  }
 },
 "nbformat": 4,
 "nbformat_minor": 2
}
